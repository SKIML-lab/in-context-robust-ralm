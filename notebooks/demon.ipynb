{
 "cells": [
  {
   "cell_type": "code",
   "execution_count": 1,
   "metadata": {},
   "outputs": [],
   "source": [
    "from datasets import load_dataset"
   ]
  },
  {
   "cell_type": "code",
   "execution_count": 2,
   "metadata": {},
   "outputs": [],
   "source": [
    "dataset = load_dataset(\"Atipico1/mrqa_v2_unans\")[\"train\"]"
   ]
  },
  {
   "cell_type": "code",
   "execution_count": 3,
   "metadata": {},
   "outputs": [],
   "source": [
    "squad = load_dataset(\"rajpurkar/squad_v2\")"
   ]
  },
  {
   "cell_type": "code",
   "execution_count": 4,
   "metadata": {},
   "outputs": [],
   "source": [
    "from datasets import concatenate_datasets\n",
    "total_squad = concatenate_datasets([squad[\"train\"], squad[\"validation\"]])"
   ]
  },
  {
   "cell_type": "code",
   "execution_count": 47,
   "metadata": {},
   "outputs": [
    {
     "data": {
      "application/vnd.jupyter.widget-view+json": {
       "model_id": "2a98e49b5bb44377bfe474f08454a111",
       "version_major": 2,
       "version_minor": 0
      },
      "text/plain": [
       "Filter:   0%|          | 0/49443 [00:00<?, ? examples/s]"
      ]
     },
     "metadata": {},
     "output_type": "display_data"
    },
    {
     "data": {
      "application/vnd.jupyter.widget-view+json": {
       "model_id": "5af7d25834174b96bdc39b736f40914b",
       "version_major": 2,
       "version_minor": 0
      },
      "text/plain": [
       "Filter:   0%|          | 0/49443 [00:00<?, ? examples/s]"
      ]
     },
     "metadata": {},
     "output_type": "display_data"
    }
   ],
   "source": [
    "total_squad = total_squad.filter(lambda x : x[\"answers\"][\"text\"] == [])\n",
    "total_squad = total_squad.filter(lambda x: len(x[\"context\"].split()) < 120)"
   ]
  },
  {
   "cell_type": "code",
   "execution_count": 10,
   "metadata": {},
   "outputs": [],
   "source": [
    "# from sentence_transformers import SentenceTransformer\n",
    "import torch\n",
    "import numpy as np\n",
    "from tqdm import tqdm\n",
    "\n",
    "# model = SentenceTransformer('sentence-transformers/all-MiniLM-L12-v2', device=\"cuda:0\")\n",
    "# model.max_seq_length = 64\n",
    "# questions = total_squad[\"question\"]\n",
    "# result = []\n",
    "# with torch.no_grad():\n",
    "#     for i in tqdm(range(0, len(questions), 1024), desc=\"Embedding...\"):\n",
    "#         batch = questions[i:i+1024]\n",
    "#         result.extend(model.encode(batch, batch_size=1024, show_progress_bar=False))"
   ]
  },
  {
   "cell_type": "code",
   "execution_count": 49,
   "metadata": {},
   "outputs": [
    {
     "name": "stderr",
     "output_type": "stream",
     "text": [
      "Embedding...: 100%|██████████| 29/29 [00:04<00:00,  6.99it/s]\n"
     ]
    }
   ],
   "source": [
    "from sentence_transformers import SentenceTransformer\n",
    "model = SentenceTransformer('sentence-transformers/all-MiniLM-L12-v2', device=\"cuda:0\")\n",
    "model.max_seq_length = 64\n",
    "questions = total_squad[\"question\"]\n",
    "result = []\n",
    "with torch.no_grad():\n",
    "    for i in tqdm(range(0, len(questions), 1024), desc=\"Embedding...\"):\n",
    "        batch = questions[i:i+1024]\n",
    "        result.extend(model.encode(batch, batch_size=1024, show_progress_bar=False))"
   ]
  },
  {
   "cell_type": "code",
   "execution_count": 50,
   "metadata": {},
   "outputs": [],
   "source": [
    "samples = dataset.shuffle(seed=42).select(range(1000))"
   ]
  },
  {
   "cell_type": "code",
   "execution_count": 51,
   "metadata": {},
   "outputs": [
    {
     "data": {
      "application/vnd.jupyter.widget-view+json": {
       "model_id": "a3bc717b2b9c4b96a8c83c5d76ec29de",
       "version_major": 2,
       "version_minor": 0
      },
      "text/plain": [
       "Batches:   0%|          | 0/1 [00:00<?, ?it/s]"
      ]
     },
     "metadata": {},
     "output_type": "display_data"
    }
   ],
   "source": [
    "samples_q = samples[\"question\"]\n",
    "sampels_emb = model.encode(samples_q, batch_size=1024, show_progress_bar=True)"
   ]
  },
  {
   "cell_type": "code",
   "execution_count": 53,
   "metadata": {},
   "outputs": [],
   "source": [
    "transposed = np.array(result).T"
   ]
  },
  {
   "cell_type": "code",
   "execution_count": 54,
   "metadata": {},
   "outputs": [
    {
     "name": "stderr",
     "output_type": "stream",
     "text": [
      "100%|██████████| 1000/1000 [05:57<00:00,  2.80it/s]\n"
     ]
    }
   ],
   "source": [
    "from sentence_transformers import util\n",
    "q_res, c_res = [], []\n",
    "for q in tqdm(sampels_emb):\n",
    "    max_idx = np.argmax(np.dot(q, transposed))\n",
    "    max_c, max_q = total_squad[\"context\"][max_idx], total_squad[\"question\"][max_idx]\n",
    "    q_res.append(max_q)\n",
    "    c_res.append(max_c)"
   ]
  },
  {
   "cell_type": "code",
   "execution_count": 55,
   "metadata": {},
   "outputs": [],
   "source": [
    "samples = samples.add_column(\"squad\", [{\"question\": q_res, \"context\": c_res} for q_res, c_res in zip(q_res, c_res)])"
   ]
  },
  {
   "cell_type": "code",
   "execution_count": 57,
   "metadata": {},
   "outputs": [
    {
     "data": {
      "application/vnd.jupyter.widget-view+json": {
       "model_id": "e3a72d08e9044ce7a5e636d54213c0be",
       "version_major": 2,
       "version_minor": 0
      },
      "text/plain": [
       "Uploading the dataset shards:   0%|          | 0/1 [00:00<?, ?it/s]"
      ]
     },
     "metadata": {},
     "output_type": "display_data"
    },
    {
     "data": {
      "application/vnd.jupyter.widget-view+json": {
       "model_id": "7ed4d09959a04547b77d76a4e2912a1c",
       "version_major": 2,
       "version_minor": 0
      },
      "text/plain": [
       "Creating parquet from Arrow format:   0%|          | 0/1 [00:00<?, ?ba/s]"
      ]
     },
     "metadata": {},
     "output_type": "display_data"
    }
   ],
   "source": [
    "samples.push_to_hub(\"Atipico1/mrqa_v2_unans_1k\")"
   ]
  },
  {
   "cell_type": "code",
   "execution_count": 58,
   "metadata": {},
   "outputs": [
    {
     "data": {
      "text/plain": [
       "Dataset({\n",
       "    features: ['subset', 'qid', 'question', 'answers', 'masked_query', 'context', 'answer_sent', 'answer_in_context', 'query_embedding', 'Q_similar_context', 'C_similar_context', 'QC_similar_context', 'random_context', 'squad'],\n",
       "    num_rows: 1000\n",
       "})"
      ]
     },
     "execution_count": 58,
     "metadata": {},
     "output_type": "execute_result"
    }
   ],
   "source": [
    "samples"
   ]
  },
  {
   "cell_type": "code",
   "execution_count": null,
   "metadata": {},
   "outputs": [],
   "source": []
  }
 ],
 "metadata": {
  "kernelspec": {
   "display_name": "exp",
   "language": "python",
   "name": "python3"
  },
  "language_info": {
   "codemirror_mode": {
    "name": "ipython",
    "version": 3
   },
   "file_extension": ".py",
   "mimetype": "text/x-python",
   "name": "python",
   "nbconvert_exporter": "python",
   "pygments_lexer": "ipython3",
   "version": "3.10.13"
  }
 },
 "nbformat": 4,
 "nbformat_minor": 2
}
