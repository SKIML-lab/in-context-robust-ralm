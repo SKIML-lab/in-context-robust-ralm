{
 "cells": [
  {
   "cell_type": "code",
   "execution_count": 2,
   "metadata": {},
   "outputs": [],
   "source": [
    "from datasets import load_dataset\n",
    "import pandas as pd"
   ]
  },
  {
   "cell_type": "code",
   "execution_count": 5,
   "metadata": {},
   "outputs": [
    {
     "data": {
      "application/vnd.jupyter.widget-view+json": {
       "model_id": "af435d72ec514da19ce17c05044ba3d9",
       "version_major": 2,
       "version_minor": 0
      },
      "text/plain": [
       "Uploading the dataset shards:   0%|          | 0/1 [00:00<?, ?it/s]"
      ]
     },
     "metadata": {},
     "output_type": "display_data"
    },
    {
     "data": {
      "application/vnd.jupyter.widget-view+json": {
       "model_id": "4570ed82b24141c1a57b0600d2d7f481",
       "version_major": 2,
       "version_minor": 0
      },
      "text/plain": [
       "Creating parquet from Arrow format:   0%|          | 0/12 [00:00<?, ?ba/s]"
      ]
     },
     "metadata": {},
     "output_type": "display_data"
    }
   ],
   "source": [
    "dataset = load_dataset(\"Atipico1/incontext_tqa_v2\", split=\"train\")\n",
    "dataset = dataset.remove_columns([\"answerable\", \"hasanswer\"])\n",
    "dataset.push_to_hub(\"Atipico1/incontext_tqa\")"
   ]
  },
  {
   "cell_type": "code",
   "execution_count": null,
   "metadata": {},
   "outputs": [],
   "source": []
  },
  {
   "cell_type": "code",
   "execution_count": null,
   "metadata": {},
   "outputs": [],
   "source": [
    "dataset[\"ctxs\"][0]"
   ]
  },
  {
   "cell_type": "code",
   "execution_count": null,
   "metadata": {},
   "outputs": [],
   "source": [
    "uncertain       1694\n",
    "answerable      1433\n",
    "unanswerable     483"
   ]
  },
  {
   "cell_type": "code",
   "execution_count": null,
   "metadata": {},
   "outputs": [],
   "source": [
    "answerable\n",
    "uncertain       2046\n",
    "answerable      1433\n",
    "unanswerable     131"
   ]
  },
  {
   "cell_type": "code",
   "execution_count": 5,
   "metadata": {},
   "outputs": [
    {
     "data": {
      "text/plain": [
       "answerable\n",
       "uncertain       2238\n",
       "answerable       889\n",
       "unanswerable     483\n",
       "Name: count, dtype: int64"
      ]
     },
     "execution_count": 5,
     "metadata": {},
     "output_type": "execute_result"
    }
   ],
   "source": [
    "df = pd.DataFrame(dataset)\n",
    "df.answerable.value_counts()"
   ]
  },
  {
   "cell_type": "code",
   "execution_count": 12,
   "metadata": {},
   "outputs": [],
   "source": [
    "def hasanswer(ctxs) -> bool:\n",
    "    return any([c[\"hasanswer\"] for c in ctxs])\n",
    "\n",
    "def answerable(ctxs) -> bool:\n",
    "    res = []\n",
    "    for ctx in ctxs:\n",
    "        hasanswer, entail = ctx[\"hasanswer\"], ctx[\"nli\"]\n",
    "        if hasanswer and (entail in [\"entailment\", \"contradiction\"]):\n",
    "            res.append(\"answerable\")\n",
    "        elif (not hasanswer) and (entail != \"entailment\"):\n",
    "            res.append(\"unanswerable\")\n",
    "        else:\n",
    "            res.append(\"uncertain\")\n",
    "    if res.count(\"answerable\") >= 1:\n",
    "        return \"answerable\"\n",
    "    elif res.count(\"unanswerable\") == 5:\n",
    "        return \"unanswerable\"\n",
    "    else:\n",
    "        return \"uncertain\""
   ]
  },
  {
   "cell_type": "code",
   "execution_count": 10,
   "metadata": {},
   "outputs": [
    {
     "data": {
      "application/vnd.jupyter.widget-view+json": {
       "model_id": "991e620b53cd4f859ac458ae57658a4d",
       "version_major": 2,
       "version_minor": 0
      },
      "text/plain": [
       "Map:   0%|          | 0/3610 [00:00<?, ? examples/s]"
      ]
     },
     "metadata": {},
     "output_type": "display_data"
    },
    {
     "data": {
      "application/vnd.jupyter.widget-view+json": {
       "model_id": "344ccced72a1452ba0cb406044ad7d44",
       "version_major": 2,
       "version_minor": 0
      },
      "text/plain": [
       "Map:   0%|          | 0/3610 [00:00<?, ? examples/s]"
      ]
     },
     "metadata": {},
     "output_type": "display_data"
    }
   ],
   "source": [
    "dataset = dataset.map(lambda x: {\"hasanswer\": hasanswer(x[\"ctxs\"])})\n",
    "dataset = dataset.map(lambda x: {\"answerable\": answerable(x[\"ctxs\"])})"
   ]
  },
  {
   "cell_type": "code",
   "execution_count": 11,
   "metadata": {},
   "outputs": [
    {
     "data": {
      "text/plain": [
       "answerable\n",
       "uncertain       1694\n",
       "answerable      1433\n",
       "unanswerable     483\n",
       "Name: count, dtype: int64"
      ]
     },
     "execution_count": 11,
     "metadata": {},
     "output_type": "execute_result"
    }
   ],
   "source": [
    "df = pd.DataFrame(dataset)\n",
    "df.answerable.value_counts()"
   ]
  },
  {
   "cell_type": "code",
   "execution_count": null,
   "metadata": {},
   "outputs": [],
   "source": []
  }
 ],
 "metadata": {
  "kernelspec": {
   "display_name": "exp",
   "language": "python",
   "name": "python3"
  },
  "language_info": {
   "codemirror_mode": {
    "name": "ipython",
    "version": 3
   },
   "file_extension": ".py",
   "mimetype": "text/x-python",
   "name": "python",
   "nbconvert_exporter": "python",
   "pygments_lexer": "ipython3",
   "version": "3.10.13"
  }
 },
 "nbformat": 4,
 "nbformat_minor": 2
}
